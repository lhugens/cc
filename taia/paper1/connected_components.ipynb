{
 "cells": [
  {
   "cell_type": "code",
   "execution_count": 9,
   "id": "fa43fc06-998f-4022-b8ed-f01d31163535",
   "metadata": {},
   "outputs": [],
   "source": [
    "import networkx as nx\n",
    "import random"
   ]
  },
  {
   "cell_type": "markdown",
   "id": "ffa0c460-791c-432f-9b99-afe4155fd30c",
   "metadata": {},
   "source": [
    "Tools to build graphs"
   ]
  },
  {
   "cell_type": "code",
   "execution_count": 10,
   "id": "1f3f9495-3962-4bfc-bc23-436b399af698",
   "metadata": {},
   "outputs": [],
   "source": [
    "def build_graph(nodes, edges):\n",
    "    return {i: [j for j in nodes if j!=i and (i, j) in edges or (j, i) in edges] for i in nodes}\n",
    "\n",
    "def generate_random_graph():\n",
    "    n = 10\n",
    "    prob = 0.1\n",
    "    V = list(range(1, n+1))\n",
    "    E = [(i, j) for i in V for j in V if i<j and random.random() < prob]\n",
    "    return V, E"
   ]
  },
  {
   "cell_type": "markdown",
   "id": "35d87d97-83fd-4dfe-8dbb-0954ac736e9b",
   "metadata": {},
   "source": [
    "Tools to convert to certain graph formats, given vertices V and edges E"
   ]
  },
  {
   "cell_type": "code",
   "execution_count": 11,
   "id": "cf1c1f69-07d1-4997-b4fd-1f1c8edc3b51",
   "metadata": {},
   "outputs": [],
   "source": [
    "def convert_to_G(V, E):\n",
    "    G = nx.Graph()\n",
    "    G.add_nodes_from(V)\n",
    "    G.add_edges_from(E)\n",
    "    return G\n",
    "\n",
    "def convert_to_g(V, E):\n",
    "    return {i: [j for j in V if j!=i and (i, j) in E or (j, i) in E] for i in V}"
   ]
  },
  {
   "cell_type": "markdown",
   "id": "fee2e702-890e-4a37-8ef0-e70513c4738e",
   "metadata": {},
   "source": [
    "Function to plot an networkx graph"
   ]
  },
  {
   "cell_type": "code",
   "execution_count": 12,
   "id": "4a313c32-c1e4-476b-9d76-25f460b74326",
   "metadata": {},
   "outputs": [],
   "source": [
    "def plot_graph(G):\n",
    "    nx.draw(G, with_labels=True, node_size=500, node_color='skyblue', font_size=10, font_color='black', font_weight='bold')"
   ]
  },
  {
   "cell_type": "markdown",
   "id": "32f36f7b-f797-49b5-8bb4-ebefa80cfa95",
   "metadata": {},
   "source": [
    "Class to calculate number of graph connected components"
   ]
  },
  {
   "cell_type": "code",
   "execution_count": 13,
   "id": "091aa30b-615c-4330-a3f1-ab3baf7d6f15",
   "metadata": {},
   "outputs": [],
   "source": [
    "class my_no_connected_components:\n",
    "    def __init__(self, g):\n",
    "        self.g = g\n",
    "        self.visited = {}\n",
    "        self.V = g.keys()\n",
    "        self.ncc = 0\n",
    "        for k in self.V:\n",
    "            self.visited[k] = self.visited.get(k, False)\n",
    "\n",
    "    def find(self):\n",
    "        for k in self.V:\n",
    "            if self.visited[k] == False:\n",
    "                self.dfs(k)\n",
    "                self.ncc+=1\n",
    "        return self.ncc\n",
    "\n",
    "    def dfs(self, k):\n",
    "        self.visited[k] = True\n",
    "        for p in self.g[k]:\n",
    "            if self.visited[p] == False:\n",
    "                self.dfs(p)"
   ]
  },
  {
   "cell_type": "code",
   "execution_count": 17,
   "id": "b6dac930-ddc8-4d1e-9bdb-a5feef70674f",
   "metadata": {},
   "outputs": [
    {
     "name": "stdout",
     "output_type": "stream",
     "text": [
      "Sucess\n"
     ]
    }
   ],
   "source": [
    "flag = 0\n",
    "for _ in range(100):\n",
    "    V, E = generate_random_graph()\n",
    "    g = convert_to_g(V, E)\n",
    "    G = convert_to_G(V, E)\n",
    "    if len(list(nx.connected_components(G))) != my_no_connected_components(g).find():\n",
    "        flag = 1\n",
    "        print(\"Failure\")\n",
    "        print(g)\n",
    "        print(\"nx  \", list(nx.connected_components(G)), \"\\nmine\", my_connected_components(g).find())\n",
    "        plot_graph(G)\n",
    "\n",
    "if flag == 0:\n",
    "    print(\"Sucess\")"
   ]
  },
  {
   "cell_type": "code",
   "execution_count": null,
   "id": "dc865f81-bd46-4af9-86c4-9b19248b26cd",
   "metadata": {},
   "outputs": [],
   "source": []
  }
 ],
 "metadata": {
  "kernelspec": {
   "display_name": "Python 3 (ipykernel)",
   "language": "python",
   "name": "python3"
  },
  "language_info": {
   "codemirror_mode": {
    "name": "ipython",
    "version": 3
   },
   "file_extension": ".py",
   "mimetype": "text/x-python",
   "name": "python",
   "nbconvert_exporter": "python",
   "pygments_lexer": "ipython3",
   "version": "3.11.2"
  }
 },
 "nbformat": 4,
 "nbformat_minor": 5
}
