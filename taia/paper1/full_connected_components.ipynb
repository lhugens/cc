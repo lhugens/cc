{
 "cells": [
  {
   "cell_type": "markdown",
   "id": "748e2389-7035-4a9a-8832-c136d45d0d91",
   "metadata": {
    "id": "748e2389-7035-4a9a-8832-c136d45d0d91"
   },
   "source": [
    "Version of programs and libraries used"
   ]
  },
  {
   "cell_type": "code",
   "execution_count": 1,
   "id": "WnELueIfN9NB",
   "metadata": {
    "colab": {
     "base_uri": "https://localhost:8080/"
    },
    "executionInfo": {
     "elapsed": 20797,
     "status": "ok",
     "timestamp": 1695578368318,
     "user": {
      "displayName": "Leonardo Lobato Dias Leite Hügens",
      "userId": "11861312817274715395"
     },
     "user_tz": -60
    },
    "id": "WnELueIfN9NB",
    "outputId": "fe5cf768-ceb2-439b-ffe9-a6478436df9b"
   },
   "outputs": [],
   "source": [
    "#from google.colab import drive\n",
    "#drive.mount('/content/drive')"
   ]
  },
  {
   "cell_type": "code",
   "execution_count": 2,
   "id": "KwhZQtn1T6-7",
   "metadata": {
    "executionInfo": {
     "elapsed": 280,
     "status": "ok",
     "timestamp": 1695578377702,
     "user": {
      "displayName": "Leonardo Lobato Dias Leite Hügens",
      "userId": "11861312817274715395"
     },
     "user_tz": -60
    },
    "id": "KwhZQtn1T6-7"
   },
   "outputs": [],
   "source": [
    "#import os\n",
    "#folder_path = '/content/drive/My Drive/Colab Notebooks/'\n",
    "#os.chdir(folder_path)"
   ]
  },
  {
   "cell_type": "code",
   "execution_count": 3,
   "id": "912e2ab7-6891-41b6-b115-d0cce0a7c8b8",
   "metadata": {
    "colab": {
     "base_uri": "https://localhost:8080/"
    },
    "executionInfo": {
     "elapsed": 3,
     "status": "ok",
     "timestamp": 1695578378848,
     "user": {
      "displayName": "Leonardo Lobato Dias Leite Hügens",
      "userId": "11861312817274715395"
     },
     "user_tz": -60
    },
    "id": "912e2ab7-6891-41b6-b115-d0cce0a7c8b8",
    "outputId": "f6916299-557d-4cf3-998f-03c141273b4e"
   },
   "outputs": [
    {
     "name": "stdout",
     "output_type": "stream",
     "text": [
      "Python version: 3.11.2 (main, Mar 13 2023, 12:18:29) [GCC 12.2.0]\n"
     ]
    }
   ],
   "source": [
    "import sys\n",
    "\n",
    "print(f\"Python version: {sys.version}\")"
   ]
  },
  {
   "cell_type": "code",
   "execution_count": 4,
   "id": "5539f324-1aae-4f23-9f80-e9cac4297974",
   "metadata": {
    "colab": {
     "base_uri": "https://localhost:8080/"
    },
    "executionInfo": {
     "elapsed": 321,
     "status": "ok",
     "timestamp": 1695578379586,
     "user": {
      "displayName": "Leonardo Lobato Dias Leite Hügens",
      "userId": "11861312817274715395"
     },
     "user_tz": -60
    },
    "id": "5539f324-1aae-4f23-9f80-e9cac4297974",
    "outputId": "23c43c88-3aa8-4722-b1f3-4f6eafb5a02f"
   },
   "outputs": [
    {
     "name": "stdout",
     "output_type": "stream",
     "text": [
      "Python version: 3.11.2 (main, Mar 13 2023, 12:18:29) [GCC 12.2.0]\n",
      "networkx version: 3.1\n",
      "matplotlib verion: 3.8.0\n",
      "numpy verion: 1.26.0\n",
      "ctypes verion: 1.1.0\n"
     ]
    }
   ],
   "source": [
    "import sys\n",
    "import random\n",
    "import time\n",
    "import networkx\n",
    "import matplotlib\n",
    "import matplotlib.pyplot as plt\n",
    "import numpy\n",
    "import ctypes \n",
    "\n",
    "print(f\"Python version: {sys.version}\")\n",
    "print(f\"networkx version: {networkx.__version__}\")\n",
    "print(f\"matplotlib verion: {matplotlib.__version__}\")\n",
    "print(f\"numpy verion: {numpy.__version__}\")\n",
    "print(f\"ctypes verion: {ctypes.__version__}\")"
   ]
  },
  {
   "cell_type": "markdown",
   "id": "b0a10ee8-c385-4ae8-9293-1da56db29838",
   "metadata": {
    "id": "b0a10ee8-c385-4ae8-9293-1da56db29838"
   },
   "source": [
    "Graph definition"
   ]
  },
  {
   "cell_type": "code",
   "execution_count": 5,
   "id": "f1bb261e-6660-4698-9b03-b6b1d7f83751",
   "metadata": {
    "executionInfo": {
     "elapsed": 277,
     "status": "ok",
     "timestamp": 1695578381008,
     "user": {
      "displayName": "Leonardo Lobato Dias Leite Hügens",
      "userId": "11861312817274715395"
     },
     "user_tz": -60
    },
    "id": "f1bb261e-6660-4698-9b03-b6b1d7f83751"
   },
   "outputs": [],
   "source": [
    "V = [1, 2, 3, 4, 5]\n",
    "E = [(1, 2), (3, 4), (1, 5)]"
   ]
  },
  {
   "cell_type": "markdown",
   "id": "d514e38e-a83e-4383-abcc-de36f9236967",
   "metadata": {
    "id": "d514e38e-a83e-4383-abcc-de36f9236967"
   },
   "source": [
    "Graph usefull function"
   ]
  },
  {
   "cell_type": "code",
   "execution_count": 6,
   "id": "029082c0-c85c-41d9-ba01-e556386e546a",
   "metadata": {
    "executionInfo": {
     "elapsed": 3,
     "status": "ok",
     "timestamp": 1695578382322,
     "user": {
      "displayName": "Leonardo Lobato Dias Leite Hügens",
      "userId": "11861312817274715395"
     },
     "user_tz": -60
    },
    "id": "029082c0-c85c-41d9-ba01-e556386e546a"
   },
   "outputs": [],
   "source": [
    "# Build Graph in networkx format\n",
    "# Use Graph naming convention to imply networkx usage\n",
    "def build_Graph(V, E):\n",
    "    Graph = networkx.Graph()\n",
    "    Graph.add_nodes_from(V)\n",
    "    Graph.add_edges_from(E)\n",
    "    return Graph\n",
    "\n",
    "# Example\n",
    "Graph = build_Graph(V, E)"
   ]
  },
  {
   "cell_type": "code",
   "execution_count": 7,
   "id": "bd743bcf-8a8d-457b-8847-0cde00fadc79",
   "metadata": {
    "colab": {
     "base_uri": "https://localhost:8080/",
     "height": 516
    },
    "executionInfo": {
     "elapsed": 409,
     "status": "ok",
     "timestamp": 1695578383190,
     "user": {
      "displayName": "Leonardo Lobato Dias Leite Hügens",
      "userId": "11861312817274715395"
     },
     "user_tz": -60
    },
    "id": "bd743bcf-8a8d-457b-8847-0cde00fadc79",
    "outputId": "1396eba0-d201-458d-ec2c-0e12e3783fe3"
   },
   "outputs": [
    {
     "data": {
      "image/png": "[encoded data removed]",
      "text/plain": [
       "<Figure size 640x480 with 1 Axes>"
      ]
     },
     "metadata": {},
     "output_type": "display_data"
    }
   ],
   "source": [
    "# Visualize Graph\n",
    "def plot_graph(Graph):\n",
    "    networkx.draw(Graph, with_labels=True)\n",
    "\n",
    "plot_graph(Graph)"
   ]
  },
  {
   "cell_type": "code",
   "execution_count": 8,
   "id": "8805713f-bc50-4093-ab8a-f4df198b8c17",
   "metadata": {
    "colab": {
     "base_uri": "https://localhost:8080/"
    },
    "executionInfo": {
     "elapsed": 6,
     "status": "ok",
     "timestamp": 1695578383191,
     "user": {
      "displayName": "Leonardo Lobato Dias Leite Hügens",
      "userId": "11861312817274715395"
     },
     "user_tz": -60
    },
    "id": "8805713f-bc50-4093-ab8a-f4df198b8c17",
    "outputId": "d347336b-cd07-4efc-dc71-d29cb85dd35b"
   },
   "outputs": [
    {
     "name": "stdout",
     "output_type": "stream",
     "text": [
      "{1: [2, 5], 2: [1], 3: [4], 4: [3], 5: [1]}\n"
     ]
    }
   ],
   "source": [
    "# Build graph in dictionary format, keys are nodes, values are the list of edges connected to each nodes\n",
    "# graph naming convection for this format\n",
    "def build_graph(V, E):\n",
    "    return {i: [j for j in V if j!=i and (i, j) in E or (j, i) in E] for i in V}\n",
    "\n",
    "graph = build_graph(V, E)\n",
    "print(graph)"
   ]
  },
  {
   "cell_type": "markdown",
   "id": "c221d2aa-1a26-4987-8243-5eb803543375",
   "metadata": {
    "id": "c221d2aa-1a26-4987-8243-5eb803543375"
   },
   "source": [
    "Random graph generation"
   ]
  },
  {
   "cell_type": "code",
   "execution_count": 9,
   "id": "363acc7f-e347-4289-bd7c-3d9d5a2a459b",
   "metadata": {
    "colab": {
     "base_uri": "https://localhost:8080/"
    },
    "executionInfo": {
     "elapsed": 312,
     "status": "ok",
     "timestamp": 1695578384799,
     "user": {
      "displayName": "Leonardo Lobato Dias Leite Hügens",
      "userId": "11861312817274715395"
     },
     "user_tz": -60
    },
    "id": "363acc7f-e347-4289-bd7c-3d9d5a2a459b",
    "outputId": "dd4cb20c-ce69-4abc-a549-eb59a5883ad6"
   },
   "outputs": [
    {
     "name": "stdout",
     "output_type": "stream",
     "text": [
      "V = [1, 2, 3, 4, 5]\n",
      "E = {(4, 5), (2, 5), (3, 5), (1, 5)}\n"
     ]
    }
   ],
   "source": [
    "def generate_random_graph(n, k, r):\n",
    "    \"\"\"Set random seed to 'r' and create a graph with 'n' vertices and (up to) n * k edges.\"\"\"\n",
    "    random.seed(r)\n",
    "    V = list(range(1,n+1))\n",
    "    E = set()\n",
    "    for _ in range(n*k):\n",
    "        i = random.randint(1,n)\n",
    "        j = random.randint(1,n)\n",
    "        if i != j:\n",
    "            i, j = min(i,j), max(i,j)\n",
    "            E.add((i,j))\n",
    "    return V, E\n",
    "\n",
    "V, E = generate_random_graph(5, 1, 3)\n",
    "print(f\"V = {V}\")\n",
    "print(f\"E = {E}\")"
   ]
  },
  {
   "cell_type": "markdown",
   "id": "e05ec781-4782-41a3-b863-dd8a5a36fe64",
   "metadata": {
    "id": "e05ec781-4782-41a3-b863-dd8a5a36fe64"
   },
   "source": [
    "File management tools"
   ]
  },
  {
   "cell_type": "code",
   "execution_count": 10,
   "id": "c017187c-1208-4cd2-836d-8441c892d793",
   "metadata": {
    "executionInfo": {
     "elapsed": 7,
     "status": "ok",
     "timestamp": 1695578386159,
     "user": {
      "displayName": "Leonardo Lobato Dias Leite Hügens",
      "userId": "11861312817274715395"
     },
     "user_tz": -60
    },
    "id": "c017187c-1208-4cd2-836d-8441c892d793"
   },
   "outputs": [],
   "source": [
    "def write_instance(V, E, filename):\n",
    "    \"\"\"Write a graph instance to a file (loosely, in a format used in DIMACS challenges).\"\"\"\n",
    "    with open(filename, \"w\") as f:\n",
    "        f.write(f\"Nodes {n}\\n\")\n",
    "        f.write(f\"Edges {len(E)}\\n\")\n",
    "        for (i,j) in E:\n",
    "            f.write(f\"E {i} {j}\\n\")\n",
    "\n",
    "def read_instance(filename):\n",
    "    \"\"\"Read a graph from a file.\"\"\"\n",
    "    try:\n",
    "        if len(filename)>3 and filename[-3:] == \".gz\":  # file compressed with gzip\n",
    "            import gzip\n",
    "            f = gzip.open(filename, \"rt\")\n",
    "        else:   # usual, uncompressed file\n",
    "            f = open(filename)\n",
    "    except IOError:\n",
    "        print(\"could not open file\", filename)\n",
    "        exit(-1)\n",
    "\n",
    "    edges = set()\n",
    "    for line in f:\n",
    "        if line[0:6].lower() == 'edges ':\n",
    "            e, n_edges = line.split()\n",
    "            n_edges = int(n_edges)\n",
    "        elif line[0:6].lower() == 'nodes ':\n",
    "            e, n_nodes = line.split()\n",
    "            n_nodes = int(n_nodes)\n",
    "        elif line[0:2].lower() == 'e ':\n",
    "            e, i, j = line.split()\n",
    "            i, j = int(i), int(j)\n",
    "            i, j = min(i,j), max(i,j)\n",
    "            edges.add((i,j))\n",
    "    f.close()\n",
    "\n",
    "    assert n_edges == len(edges)\n",
    "    vertices = list(range(1,n_nodes+1))\n",
    "    return vertices, list(edges)"
   ]
  },
  {
   "cell_type": "markdown",
   "id": "7c4afcc3-449d-442f-8108-8f8cc2a433aa",
   "metadata": {
    "id": "7c4afcc3-449d-442f-8108-8f8cc2a433aa"
   },
   "source": [
    "Generate random graphs using predefined random seeds and write them to files"
   ]
  },
  {
   "cell_type": "code",
   "execution_count": 11,
   "id": "b19bca36-87b9-4812-a9bd-82355de6e569",
   "metadata": {
    "executionInfo": {
     "elapsed": 283,
     "status": "ok",
     "timestamp": 1695578388563,
     "user": {
      "displayName": "Leonardo Lobato Dias Leite Hügens",
      "userId": "11861312817274715395"
     },
     "user_tz": -60
    },
    "id": "b19bca36-87b9-4812-a9bd-82355de6e569"
   },
   "outputs": [],
   "source": [
    "#for n in [100, 1000, 10000, 100000, 1000000]:\n",
    "#    for k in [1, 2, 5, 10]:\n",
    "#        for r in range(1,11):\n",
    "#            V, E = generate_random_graph(n, k, r)\n",
    "#            filename = f\"graphs/G{n}-{k}-{r}.graph\"\n",
    "#            write_instance(V, E, filename)"
   ]
  },
  {
   "cell_type": "markdown",
   "id": "91cf59cc-695e-4610-b339-3e931b764a5f",
   "metadata": {
    "id": "91cf59cc-695e-4610-b339-3e931b764a5f"
   },
   "source": [
    "networkx method for finding the number of connected components in a graph"
   ]
  },
  {
   "cell_type": "code",
   "execution_count": 12,
   "id": "765b303d-d813-45a8-b98c-9973c47667f6",
   "metadata": {
    "colab": {
     "base_uri": "https://localhost:8080/"
    },
    "executionInfo": {
     "elapsed": 9,
     "status": "ok",
     "timestamp": 1695578389753,
     "user": {
      "displayName": "Leonardo Lobato Dias Leite Hügens",
      "userId": "11861312817274715395"
     },
     "user_tz": -60
    },
    "id": "765b303d-d813-45a8-b98c-9973c47667f6",
    "outputId": "2f19e728-582e-4e1c-ac0a-43454623e191"
   },
   "outputs": [
    {
     "name": "stdout",
     "output_type": "stream",
     "text": [
      "{1: [2, 5], 2: [1], 3: [4], 4: [3], 5: [1]}\n",
      "no. of connected components: 2\n"
     ]
    }
   ],
   "source": [
    "def default_method(V, E):\n",
    "    G = networkx.Graph()\n",
    "    G.add_nodes_from(V)\n",
    "    G.add_edges_from(E)\n",
    "    return len(list(networkx.connected_components(G)))\n",
    "\n",
    "# graph visulized previously\n",
    "V = [1, 2, 3, 4, 5]\n",
    "E = [(1, 2), (3, 4), (1, 5)]\n",
    "print(build_graph(V, E))\n",
    "print(f\"no. of connected components: {default_method(V,E)}\")"
   ]
  },
  {
   "cell_type": "markdown",
   "id": "636b7230-40b0-4f30-822f-1487bc4e997f",
   "metadata": {
    "id": "636b7230-40b0-4f30-822f-1487bc4e997f"
   },
   "source": [
    "Alternative method for finding the number of connected components in a graph"
   ]
  },
  {
   "cell_type": "code",
   "execution_count": 13,
   "id": "202be7d6-120b-48fe-b622-c25a3ec096f0",
   "metadata": {
    "colab": {
     "base_uri": "https://localhost:8080/"
    },
    "executionInfo": {
     "elapsed": 8,
     "status": "ok",
     "timestamp": 1695578391158,
     "user": {
      "displayName": "Leonardo Lobato Dias Leite Hügens",
      "userId": "11861312817274715395"
     },
     "user_tz": -60
    },
    "id": "202be7d6-120b-48fe-b622-c25a3ec096f0",
    "outputId": "77d7036e-ba7b-4fdc-8e79-3cd422f08bfe"
   },
   "outputs": [
    {
     "name": "stdout",
     "output_type": "stream",
     "text": [
      "{1: [2, 5], 2: [1], 3: [4], 4: [3], 5: [1]}\n",
      "no. of connected components: 2\n"
     ]
    }
   ],
   "source": [
    "class my_no_connected_components:\n",
    "    def __init__(self, g):\n",
    "        self.g = g\n",
    "        self.visited = {}\n",
    "        self.V = g.keys()\n",
    "        self.ncc = 0\n",
    "        for k in self.V:\n",
    "            self.visited[k] = self.visited.get(k, False)\n",
    "\n",
    "    def find(self):\n",
    "        for k in self.V:\n",
    "            if self.visited[k] == False:\n",
    "                self.dfs(k)\n",
    "                self.ncc+=1\n",
    "        return self.ncc\n",
    "\n",
    "    def dfs(self, k):\n",
    "        self.visited[k] = True\n",
    "        for p in self.g[k]:\n",
    "            if self.visited[p] == False:\n",
    "                self.dfs(p)\n",
    "\n",
    "def alternative_method(V, E):\n",
    "    return my_no_connected_components(build_graph(V,E)).find()\n",
    "\n",
    "# graph visulized previously\n",
    "V = [1, 2, 3, 4, 5]\n",
    "E = [(1, 2), (3, 4), (1, 5)]\n",
    "print(build_graph(V, E))\n",
    "print(f\"no. of connected components: {alternative_method(V,E)}\")"
   ]
  },
  {
   "cell_type": "markdown",
   "id": "53e8eba1-5620-4f5c-bd11-ae33b2bbdb84",
   "metadata": {
    "id": "53e8eba1-5620-4f5c-bd11-ae33b2bbdb84"
   },
   "source": [
    "Read graphs from files and solving them using both the default method and the alternative method, computing the cpu seconds, and writing that comparison data to files"
   ]
  },
  {
   "cell_type": "code",
   "execution_count": 14,
   "id": "545ba031-46a2-42b3-ba95-ddde2a156439",
   "metadata": {
    "colab": {
     "base_uri": "https://localhost:8080/"
    },
    "id": "545ba031-46a2-42b3-ba95-ddde2a156439",
    "outputId": "a78d69b1-7cd5-4ec0-a20d-48eaa62e8abe"
   },
   "outputs": [],
   "source": [
    "#for n in [1000, 10000, 100000]:\n",
    "#  with open(f\"results_{n}.txt\", \"w\") as f:\n",
    "#    f.write(f\"{'method':>12} {'nV':>8} {'nE':>9} {'ncc':>9} {'cpu_seconds':>10}\\n\")\n",
    "#    for k in [1, 2, 5, 10]:\n",
    "#        for r in range(1,11):\n",
    "#            # read graph from file\n",
    "#            graph_filename = f\"graphs/G{n}-{k}-{r}.graph\"\n",
    "#            #graph_filename = '/content/drive/My Drive/' + f\"graphs/G{n}-{k}-{r}.graph\"\n",
    "#            V, E = read_instance(graph_filename)\n",
    "#\n",
    "#            # defult method\n",
    "#            start = time.process_time()\n",
    "#            ncomponents_default = default_method(V,E)\n",
    "#            end = time.process_time()\n",
    "#            cpu_default = end - start\n",
    "#            print(f\"{graph_filename}: {ncomponents_default} components, {cpu_default} seconds\")\n",
    "#            f.write(f\"{'default':>12} {len(V):>8} {len(E):>9} {ncomponents_default:>9} {cpu_default:>10}\\n\")\n",
    "#            # alternative method\n",
    "#            start = time.process_time()\n",
    "#            ncomponents_alternative = alternative_method(V,E)\n",
    "#            end = time.process_time()\n",
    "#            cpu_alternative = end - start\n",
    "#            print(f\"{graph_filename}: {ncomponents_alternative} components, {cpu_alternative} seconds\")\n",
    "#            f.write(f\"{'alternative':>12} {len(V):>8} {len(E):>9} {ncomponents_alternative:>9} {cpu_alternative:>10}\\n\")\n",
    "#\n",
    "#            if ncomponents_default != ncomponents_alternative:\n",
    "#                print(\"Error\")\n",
    "#                exit(-1)\n",
    "#\n",
    "#"
   ]
  },
  {
   "cell_type": "markdown",
   "id": "m7GQj9HqYD1Q",
   "metadata": {
    "id": "m7GQj9HqYD1Q"
   },
   "source": [
    "Analyse the data"
   ]
  },
  {
   "cell_type": "code",
   "execution_count": 15,
   "id": "PBj5w8_MVXqN",
   "metadata": {
    "executionInfo": {
     "elapsed": 264,
     "status": "ok",
     "timestamp": 1695578775239,
     "user": {
      "displayName": "Leonardo Lobato Dias Leite Hügens",
      "userId": "11861312817274715395"
     },
     "user_tz": -60
    },
    "id": "PBj5w8_MVXqN"
   },
   "outputs": [],
   "source": [
    "#data = numpy.loadtxt('results_100.txt', skiprows=1, usecols=[i for i in range(5) if i not in [0]])\n",
    "#data = data.transpose()\n",
    "#data_default = data[:, ::2]\n",
    "#data_alternative = data[:, 1::2]\n",
    "#ncc_default = data_default[2]\n",
    "#ncc_alternative = data_alternative[2]\n",
    "#cpu_default = data_default[3]\n",
    "#cpu_alternative = data_alternative[3]"
   ]
  },
  {
   "cell_type": "code",
   "execution_count": 16,
   "id": "MeYX3BnzYfwM",
   "metadata": {
    "colab": {
     "base_uri": "https://localhost:8080/",
     "height": 472
    },
    "executionInfo": {
     "elapsed": 803,
     "status": "ok",
     "timestamp": 1695579308017,
     "user": {
      "displayName": "Leonardo Lobato Dias Leite Hügens",
      "userId": "11861312817274715395"
     },
     "user_tz": -60
    },
    "id": "MeYX3BnzYfwM",
    "outputId": "0f7f7896-21a1-4d46-82af-53a7fced578f"
   },
   "outputs": [],
   "source": [
    "#plt.title(\"#V = 100\")\n",
    "#plt.xlabel('#connected components')\n",
    "#plt.ylabel('cpu seconds')\n",
    "#plt.plot(ncc_default, cpu_default, '.')\n",
    "#plt.plot(ncc_alternative, cpu_alternative, '.')\n",
    "#plt.savefig('nV_100.png')"
   ]
  },
  {
   "cell_type": "markdown",
   "id": "c70bc9a3-f5a5-4073-a504-78f85d32ec1f",
   "metadata": {},
   "source": [
    "Algorithm implimentation in C"
   ]
  },
  {
   "cell_type": "code",
   "execution_count": 17,
   "id": "9U_Bwdk1au6Z",
   "metadata": {
    "id": "9U_Bwdk1au6Z"
   },
   "outputs": [
    {
     "name": "stdout",
     "output_type": "stream",
     "text": [
      "[1, 2, 3, 4, 5]\n"
     ]
    },
    {
     "data": {
      "text/plain": [
       "2"
      ]
     },
     "execution_count": 17,
     "metadata": {},
     "output_type": "execute_result"
    }
   ],
   "source": [
    "V = [1, 2, 3, 4, 5]\n",
    "E = [(1, 2), (3, 4), (1, 5)]\n",
    "print(V)\n",
    "\n",
    "so_file = \"/home/hugens/cc/taia/my_functions.so\"\n",
    "my_functions = ctypes.CDLL(so_file)\n",
    "\n",
    "# convert python list to a c list\n",
    "V_c = (ctypes.c_int * len(V))(*V)\n",
    "# convert python tuple list to a c tuple list\n",
    "class CTuple(ctypes.Structure):\n",
    "    _fields_ = [(\"first\", ctypes.c_int),\n",
    "                (\"second\", ctypes.c_int)]\n",
    "\n",
    "E_c = (CTuple * len(E))()\n",
    "\n",
    "for i, (first, second) in enumerate(E):\n",
    "    E_c[i].first = first\n",
    "    E_c[i].second = second\n",
    "\n",
    "# call the alternative method implemented in C\n",
    "my_functions.my_no_connected_components(V_c, len(V), E_c, len(E))"
   ]
  },
  {
   "cell_type": "code",
   "execution_count": 18,
   "id": "4648e041-b927-454b-9fd5-0fe7243e7bd9",
   "metadata": {},
   "outputs": [],
   "source": [
    "import ctypes\n",
    "so_file = \"/home/hugens/cc/taia/my_functions.so\"\n",
    "my_functions = ctypes.CDLL(so_file)\n",
    "class CTuple(ctypes.Structure):\n",
    "        _fields_ = [(\"first\", ctypes.c_int),\n",
    "                    (\"second\", ctypes.c_int)]\n",
    "    \n",
    "def alternative_method_c(V, E):\n",
    "    # convert list and tuple list to c versions\n",
    "    V_c = (ctypes.c_int * len(V))(*V)\n",
    "    E_c = (CTuple * len(E))(*E)\n",
    "    for i, (first, second) in enumerate(E):\n",
    "        E_c[i].first = first\n",
    "        E_c[i].second = second\n",
    "\n",
    "    return my_functions.my_no_connected_components(V_c, len(V), E_c, len(E))"
   ]
  },
  {
   "cell_type": "code",
   "execution_count": 19,
   "id": "55c769f7-a046-4b19-851e-2f9c3ab818b8",
   "metadata": {},
   "outputs": [
    {
     "name": "stdout",
     "output_type": "stream",
     "text": [
      "graphs/G100000-1-1.graph: 16153 components, 0.5517504080000002 seconds\n",
      "graphs/G100000-1-1.graph: 16153 components, 21.482083551 seconds\n",
      "graphs/G100000-1-2.graph: 16162 components, 0.5412574429999992 seconds\n",
      "graphs/G100000-1-2.graph: 16162 components, 21.431678881 seconds\n",
      "graphs/G100000-1-3.graph: 16128 components, 0.5301573380000022 seconds\n",
      "graphs/G100000-1-3.graph: 16128 components, 21.535264905 seconds\n",
      "graphs/G100000-1-4.graph: 16122 components, 0.6593858840000024 seconds\n",
      "graphs/G100000-1-4.graph: 16122 components, 21.557399876000005 seconds\n",
      "graphs/G100000-1-5.graph: 16207 components, 0.5495176889999982 seconds\n",
      "graphs/G100000-1-5.graph: 16207 components, 21.640888798000006 seconds\n",
      "graphs/G100000-1-6.graph: 16071 components, 0.6658912899999905 seconds\n",
      "graphs/G100000-1-6.graph: 16071 components, 21.590990711000003 seconds\n",
      "graphs/G100000-1-7.graph: 16196 components, 0.5478283969999893 seconds\n"
     ]
    },
    {
     "ename": "KeyboardInterrupt",
     "evalue": "",
     "output_type": "error",
     "traceback": [
      "\u001b[0;31m---------------------------------------------------------------------------\u001b[0m",
      "\u001b[0;31mKeyboardInterrupt\u001b[0m                         Traceback (most recent call last)",
      "Cell \u001b[0;32mIn[19], line 21\u001b[0m\n\u001b[1;32m     19\u001b[0m \u001b[38;5;66;03m# alternative method\u001b[39;00m\n\u001b[1;32m     20\u001b[0m start \u001b[38;5;241m=\u001b[39m time\u001b[38;5;241m.\u001b[39mprocess_time()\n\u001b[0;32m---> 21\u001b[0m ncomponents_alternative_c \u001b[38;5;241m=\u001b[39m \u001b[43malternative_method_c\u001b[49m\u001b[43m(\u001b[49m\u001b[43mV\u001b[49m\u001b[43m,\u001b[49m\u001b[43mE\u001b[49m\u001b[43m)\u001b[49m\n\u001b[1;32m     22\u001b[0m end \u001b[38;5;241m=\u001b[39m time\u001b[38;5;241m.\u001b[39mprocess_time()\n\u001b[1;32m     23\u001b[0m cpu_alternative_c \u001b[38;5;241m=\u001b[39m end \u001b[38;5;241m-\u001b[39m start\n",
      "Cell \u001b[0;32mIn[18], line 16\u001b[0m, in \u001b[0;36malternative_method_c\u001b[0;34m(V, E)\u001b[0m\n\u001b[1;32m     13\u001b[0m     E_c[i]\u001b[38;5;241m.\u001b[39mfirst \u001b[38;5;241m=\u001b[39m first\n\u001b[1;32m     14\u001b[0m     E_c[i]\u001b[38;5;241m.\u001b[39msecond \u001b[38;5;241m=\u001b[39m second\n\u001b[0;32m---> 16\u001b[0m \u001b[38;5;28;01mreturn\u001b[39;00m \u001b[43mmy_functions\u001b[49m\u001b[38;5;241;43m.\u001b[39;49m\u001b[43mmy_no_connected_components\u001b[49m\u001b[43m(\u001b[49m\u001b[43mV_c\u001b[49m\u001b[43m,\u001b[49m\u001b[43m \u001b[49m\u001b[38;5;28;43mlen\u001b[39;49m\u001b[43m(\u001b[49m\u001b[43mV\u001b[49m\u001b[43m)\u001b[49m\u001b[43m,\u001b[49m\u001b[43m \u001b[49m\u001b[43mE_c\u001b[49m\u001b[43m,\u001b[49m\u001b[43m \u001b[49m\u001b[38;5;28;43mlen\u001b[39;49m\u001b[43m(\u001b[49m\u001b[43mE\u001b[49m\u001b[43m)\u001b[49m\u001b[43m)\u001b[49m\n",
      "\u001b[0;31mKeyboardInterrupt\u001b[0m: "
     ]
    }
   ],
   "source": [
    "#for n in [100, 1000, 10000, 100000, 1000000]:\n",
    "for n in [100000]:\n",
    "  with open(f\"results_c_{n}.txt\", \"w\") as f:\n",
    "    f.write(f\"{'method':>12} {'nV':>8} {'nE':>9} {'ncc':>9} {'cpu_seconds':>10}\\n\")\n",
    "    for k in [1, 2, 5, 10]:\n",
    "        for r in range(1,11):\n",
    "            # read graph from file\n",
    "            graph_filename = f\"graphs/G{n}-{k}-{r}.graph\"\n",
    "            #graph_filename = '/content/drive/My Drive/' + f\"graphs/G{n}-{k}-{r}.graph\"\n",
    "            V, E = read_instance(graph_filename)\n",
    "\n",
    "            # defult method\n",
    "            start = time.process_time()\n",
    "            ncomponents_default = default_method(V,E)\n",
    "            end = time.process_time()\n",
    "            cpu_default = end - start\n",
    "            print(f\"{graph_filename}: {ncomponents_default} components, {cpu_default} seconds\")\n",
    "            f.write(f\"{'default':>12} {len(V):>8} {len(E):>9} {ncomponents_default:>9} {cpu_default:>10}\\n\")\n",
    "            # alternative method\n",
    "            start = time.process_time()\n",
    "            ncomponents_alternative_c = alternative_method_c(V,E)\n",
    "            end = time.process_time()\n",
    "            cpu_alternative_c = end - start\n",
    "            print(f\"{graph_filename}: {ncomponents_alternative_c} components, {cpu_alternative_c} seconds\")\n",
    "            f.write(f\"{'alternative':>12} {len(V):>8} {len(E):>9} {ncomponents_alternative_c:>9} {cpu_alternative_c:>10}\\n\")\n",
    "\n",
    "            if ncomponents_default != ncomponents_alternative_c:\n",
    "                print(\"Error\")\n",
    "                exit(-1)\n",
    "\n"
   ]
  },
  {
   "cell_type": "code",
   "execution_count": null,
   "id": "01f01c2a-f7be-4c89-b9c2-3274a0f25a6e",
   "metadata": {},
   "outputs": [],
   "source": []
  }
 ],
 "metadata": {
  "colab": {
   "provenance": []
  },
  "kernelspec": {
   "display_name": "Python 3 (ipykernel)",
   "language": "python",
   "name": "python3"
  },
  "language_info": {
   "codemirror_mode": {
    "name": "ipython",
    "version": 3
   },
   "file_extension": ".py",
   "mimetype": "text/x-python",
   "name": "python",
   "nbconvert_exporter": "python",
   "pygments_lexer": "ipython3",
   "version": "3.11.2"
  }
 },
 "nbformat": 4,
 "nbformat_minor": 5
}
