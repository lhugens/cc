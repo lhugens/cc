{
 "cells": [
  {
   "cell_type": "code",
   "execution_count": 1,
   "metadata": {
    "colab": {
     "base_uri": "https://localhost:8080/"
    },
    "executionInfo": {
     "elapsed": 18952,
     "status": "ok",
     "timestamp": 1696177497006,
     "user": {
      "displayName": "Leonardo Lobato Dias Leite Hügens",
      "userId": "11861312817274715395"
     },
     "user_tz": -60
    },
    "id": "W77bqcMspAm-",
    "outputId": "3826d2bd-1304-4da0-f358-fdf2134d89cb"
   },
   "outputs": [
    {
     "name": "stdout",
     "output_type": "stream",
     "text": [
      "Mounted at /content/drive\n"
     ]
    }
   ],
   "source": [
    "from google.colab import drive\n",
    "drive.mount('/content/drive')"
   ]
  },
  {
   "cell_type": "code",
   "execution_count": 2,
   "metadata": {
    "executionInfo": {
     "elapsed": 9,
     "status": "ok",
     "timestamp": 1696177497007,
     "user": {
      "displayName": "Leonardo Lobato Dias Leite Hügens",
      "userId": "11861312817274715395"
     },
     "user_tz": -60
    },
    "id": "DFrbywe9pA6V"
   },
   "outputs": [],
   "source": [
    "import os\n",
    "folder_path = '/content/drive/My Drive/Colab Notebooks/Presentation 2'\n",
    "os.chdir(folder_path)"
   ]
  },
  {
   "cell_type": "code",
   "execution_count": 3,
   "metadata": {
    "colab": {
     "base_uri": "https://localhost:8080/"
    },
    "executionInfo": {
     "elapsed": 2804,
     "status": "ok",
     "timestamp": 1696177499804,
     "user": {
      "displayName": "Leonardo Lobato Dias Leite Hügens",
      "userId": "11861312817274715395"
     },
     "user_tz": -60
    },
    "id": "gQcWkgtGn8gM",
    "outputId": "10b0d815-11d7-4e6a-c15e-1688479cd35c"
   },
   "outputs": [
    {
     "name": "stdout",
     "output_type": "stream",
     "text": [
      "TensorFlow version:  2.13.0\n",
      "SciPy version:  1.11.2\n"
     ]
    }
   ],
   "source": [
    "import tensorflow as tf\n",
    "from tensorflow import keras\n",
    "from tensorflow.keras import layers\n",
    "import scipy\n",
    "\n",
    "print(\"TensorFlow version: \", tf.__version__)\n",
    "print(\"SciPy version: \", scipy.__version__)"
   ]
  },
  {
   "cell_type": "code",
   "execution_count": 4,
   "metadata": {
    "executionInfo": {
     "elapsed": 29,
     "status": "ok",
     "timestamp": 1696177499804,
     "user": {
      "displayName": "Leonardo Lobato Dias Leite Hügens",
      "userId": "11861312817274715395"
     },
     "user_tz": -60
    },
    "id": "aU44lOF1oNNg"
   },
   "outputs": [],
   "source": [
    "# Define the CNN model\n",
    "model = keras.Sequential([\n",
    "    layers.Conv2D(32, (3, 3), activation='relu', input_shape=(150, 150, 3)),\n",
    "    layers.MaxPooling2D(2, 2),\n",
    "\n",
    "    layers.Conv2D(64, (3, 3), activation='relu'),\n",
    "    layers.MaxPooling2D(2, 2),\n",
    "\n",
    "    layers.Conv2D(128, (3, 3), activation='relu'),\n",
    "    layers.MaxPooling2D(2, 2),\n",
    "\n",
    "    layers.Flatten(),\n",
    "    layers.Dense(128, activation='relu'),\n",
    "    layers.Dense(1, activation='sigmoid')  # Binary classification (cats vs. dogs)\n",
    "])"
   ]
  },
  {
   "cell_type": "code",
   "execution_count": 5,
   "metadata": {
    "colab": {
     "base_uri": "https://localhost:8080/"
    },
    "executionInfo": {
     "elapsed": 28,
     "status": "ok",
     "timestamp": 1696177499805,
     "user": {
      "displayName": "Leonardo Lobato Dias Leite Hügens",
      "userId": "11861312817274715395"
     },
     "user_tz": -60
    },
    "id": "ABVof66Oo4Xt",
    "outputId": "02b0ab4d-7af8-4c1a-8624-5372df06bec1"
   },
   "outputs": [
    {
     "name": "stdout",
     "output_type": "stream",
     "text": [
      "Model: \"sequential\"\n",
      "_________________________________________________________________\n",
      " Layer (type)                Output Shape              Param #   \n",
      "=================================================================\n",
      " conv2d (Conv2D)             (None, 148, 148, 32)      896       \n",
      "                                                                 \n",
      " max_pooling2d (MaxPooling2  (None, 74, 74, 32)        0         \n",
      " D)                                                              \n",
      "                                                                 \n",
      " conv2d_1 (Conv2D)           (None, 72, 72, 64)        18496     \n",
      "                                                                 \n",
      " max_pooling2d_1 (MaxPoolin  (None, 36, 36, 64)        0         \n",
      " g2D)                                                            \n",
      "                                                                 \n",
      " conv2d_2 (Conv2D)           (None, 34, 34, 128)       73856     \n",
      "                                                                 \n",
      " max_pooling2d_2 (MaxPoolin  (None, 17, 17, 128)       0         \n",
      " g2D)                                                            \n",
      "                                                                 \n",
      " flatten (Flatten)           (None, 36992)             0         \n",
      "                                                                 \n",
      " dense (Dense)               (None, 128)               4735104   \n",
      "                                                                 \n",
      " dense_1 (Dense)             (None, 1)                 129       \n",
      "                                                                 \n",
      "=================================================================\n",
      "Total params: 4828481 (18.42 MB)\n",
      "Trainable params: 4828481 (18.42 MB)\n",
      "Non-trainable params: 0 (0.00 Byte)\n",
      "_________________________________________________________________\n"
     ]
    }
   ],
   "source": [
    "model.summary()"
   ]
  },
  {
   "cell_type": "code",
   "execution_count": 6,
   "metadata": {
    "executionInfo": {
     "elapsed": 8,
     "status": "ok",
     "timestamp": 1696177499805,
     "user": {
      "displayName": "Leonardo Lobato Dias Leite Hügens",
      "userId": "11861312817274715395"
     },
     "user_tz": -60
    },
    "id": "7DbO0Jzvo5ct"
   },
   "outputs": [],
   "source": [
    "# Compile the model\n",
    "model.compile(optimizer='adam',\n",
    "              loss='binary_crossentropy',\n",
    "              metrics=['accuracy'])"
   ]
  },
  {
   "cell_type": "code",
   "execution_count": 7,
   "metadata": {
    "executionInfo": {
     "elapsed": 7,
     "status": "ok",
     "timestamp": 1696177499805,
     "user": {
      "displayName": "Leonardo Lobato Dias Leite Hügens",
      "userId": "11861312817274715395"
     },
     "user_tz": -60
    },
    "id": "KErBuQhHplxP"
   },
   "outputs": [],
   "source": [
    "# Data preprocessing (assumes you have a dataset with cat and dog images)\n",
    "from tensorflow.keras.preprocessing.image import ImageDataGenerator\n",
    "\n",
    "train_datagen = ImageDataGenerator(\n",
    "    rescale=1./255,  # Normalize pixel values to [0, 1]\n",
    "    rotation_range=40,\n",
    "    width_shift_range=0.2,\n",
    "    height_shift_range=0.2,\n",
    "    shear_range=0.2,\n",
    "    zoom_range=0.2,\n",
    "    horizontal_flip=True,\n",
    "    fill_mode='nearest'\n",
    ")\n",
    "test_datagen = ImageDataGenerator(rescale=1./255)"
   ]
  },
  {
   "cell_type": "code",
   "execution_count": 8,
   "metadata": {
    "colab": {
     "base_uri": "https://localhost:8080/"
    },
    "executionInfo": {
     "elapsed": 66212,
     "status": "ok",
     "timestamp": 1696177566010,
     "user": {
      "displayName": "Leonardo Lobato Dias Leite Hügens",
      "userId": "11861312817274715395"
     },
     "user_tz": -60
    },
    "id": "2w1byVv-puzb",
    "outputId": "eb83772f-7fc7-41de-d393-680ab0ca6186"
   },
   "outputs": [
    {
     "name": "stdout",
     "output_type": "stream",
     "text": [
      "Found 25019 images belonging to 2 classes.\n",
      "Found 0 images belonging to 0 classes.\n"
     ]
    }
   ],
   "source": [
    "# Load and augment training data\n",
    "train_generator = train_datagen.flow_from_directory(\n",
    "    'train',\n",
    "    target_size=(150, 150),\n",
    "    batch_size=32,\n",
    "    class_mode='binary'  # Binary labels (0 or 1)\n",
    ")\n",
    "\n",
    "# Load validation data\n",
    "validation_generator = test_datagen.flow_from_directory(\n",
    "    'test1',\n",
    "    target_size=(150, 150),\n",
    "    batch_size=32,\n",
    "    class_mode='binary'\n",
    ")"
   ]
  },
  {
   "cell_type": "code",
   "execution_count": 9,
   "metadata": {
    "colab": {
     "base_uri": "https://localhost:8080/"
    },
    "executionInfo": {
     "elapsed": 4153997,
     "status": "ok",
     "timestamp": 1696181719969,
     "user": {
      "displayName": "Leonardo Lobato Dias Leite Hügens",
      "userId": "11861312817274715395"
     },
     "user_tz": -60
    },
    "id": "UjeLos7dpbBJ",
    "outputId": "c3d8a9b0-349d-4f80-bd55-756c2a2c3c5e"
   },
   "outputs": [
    {
     "name": "stdout",
     "output_type": "stream",
     "text": [
      "Epoch 1/10\n",
      "200/200 [==============================] - 1011s 5s/step - loss: 0.6796 - accuracy: 0.5715\n",
      "Epoch 2/10\n",
      "200/200 [==============================] - 624s 3s/step - loss: 0.6476 - accuracy: 0.6173\n",
      "Epoch 3/10\n",
      "200/200 [==============================] - 480s 2s/step - loss: 0.6193 - accuracy: 0.6522\n",
      "Epoch 4/10\n",
      "200/200 [==============================] - 397s 2s/step - loss: 0.6004 - accuracy: 0.6733\n",
      "Epoch 5/10\n",
      "200/200 [==============================] - 330s 2s/step - loss: 0.5801 - accuracy: 0.6908\n",
      "Epoch 6/10\n",
      "200/200 [==============================] - 262s 1s/step - loss: 0.5626 - accuracy: 0.7023\n",
      "Epoch 7/10\n",
      "200/200 [==============================] - 228s 1s/step - loss: 0.5659 - accuracy: 0.7078\n",
      "Epoch 8/10\n",
      "200/200 [==============================] - 206s 1s/step - loss: 0.5422 - accuracy: 0.7226\n",
      "Epoch 9/10\n",
      "200/200 [==============================] - 199s 997ms/step - loss: 0.5539 - accuracy: 0.7163\n",
      "Epoch 10/10\n",
      "200/200 [==============================] - 197s 984ms/step - loss: 0.5346 - accuracy: 0.7289\n"
     ]
    },
    {
     "data": {
      "text/plain": [
       "<keras.src.callbacks.History at 0x7abab4ab4e20>"
      ]
     },
     "execution_count": 9,
     "metadata": {},
     "output_type": "execute_result"
    }
   ],
   "source": [
    "from datetime import datetime\n",
    "# Define the Keras TensorBoard callback.\n",
    "logdir=\"logs/fit/\" + datetime.now().strftime(\"%Y%m%d-%H%M%S\")\n",
    "tensorboard_callback = keras.callbacks.TensorBoard(log_dir=logdir)\n",
    "\n",
    "# Train the model.\n",
    "model.fit(\n",
    "    train_generator,\n",
    "    steps_per_epoch=200,\n",
    "    epochs=10,\n",
    "    validation_data=validation_generator,\n",
    "    validation_steps=50,\n",
    "    callbacks=[tensorboard_callback])"
   ]
  },
  {
   "cell_type": "code",
   "execution_count": 11,
   "metadata": {
    "executionInfo": {
     "elapsed": 315,
     "status": "ok",
     "timestamp": 1696183134976,
     "user": {
      "displayName": "Leonardo Lobato Dias Leite Hügens",
      "userId": "11861312817274715395"
     },
     "user_tz": -60
    },
    "id": "ipVd7OnLqWDR"
   },
   "outputs": [],
   "source": [
    "# Save the trained model# Save the trained model\n",
    "model.save('cat_vs_dog_model.keras')"
   ]
  },
  {
   "cell_type": "code",
   "execution_count": 19,
   "metadata": {
    "colab": {
     "base_uri": "https://localhost:8080/"
    },
    "executionInfo": {
     "elapsed": 425,
     "status": "ok",
     "timestamp": 1696185003021,
     "user": {
      "displayName": "Leonardo Lobato Dias Leite Hügens",
      "userId": "11861312817274715395"
     },
     "user_tz": -60
    },
    "id": "u9pj7NX-qKTk",
    "outputId": "f43590a6-e37a-40dd-b03a-586e946bade5"
   },
   "outputs": [
    {
     "name": "stdout",
     "output_type": "stream",
     "text": [
      "2.13.0\n"
     ]
    }
   ],
   "source": [
    "import tensorboard\n",
    "print(tensorboard.__version__)\n",
    "%load_ext tensorboard"
   ]
  },
  {
   "cell_type": "code",
   "execution_count": 21,
   "metadata": {
    "colab": {
     "base_uri": "https://localhost:8080/",
     "height": 840
    },
    "executionInfo": {
     "elapsed": 861,
     "status": "ok",
     "timestamp": 1696185080368,
     "user": {
      "displayName": "Leonardo Lobato Dias Leite Hügens",
      "userId": "11861312817274715395"
     },
     "user_tz": -60
    },
    "id": "KGBxKxTvZLLv",
    "outputId": "480cd906-dd56-478f-fd32-85ac229545a3"
   },
   "outputs": [
    {
     "data": {
      "text/plain": [
       "Reusing TensorBoard on port 6006 (pid 39071), started 0:00:26 ago. (Use '!kill 39071' to kill it.)"
      ]
     },
     "metadata": {},
     "output_type": "display_data"
    },
    {
     "data": {
      "application/javascript": [
       "\n",
       "        (async () => {\n",
       "            const url = new URL(await google.colab.kernel.proxyPort(6006, {'cache': true}));\n",
       "            url.searchParams.set('tensorboardColab', 'true');\n",
       "            const iframe = document.createElement('iframe');\n",
       "            iframe.src = url;\n",
       "            iframe.setAttribute('width', '100%');\n",
       "            iframe.setAttribute('height', '800');\n",
       "            iframe.setAttribute('frameborder', 0);\n",
       "            document.body.appendChild(iframe);\n",
       "        })();\n",
       "    "
      ],
      "text/plain": [
       "<IPython.core.display.Javascript object>"
      ]
     },
     "metadata": {},
     "output_type": "display_data"
    }
   ],
   "source": [
    "%tensorboard --logdir logs"
   ]
  },
  {
   "cell_type": "code",
   "execution_count": null,
   "metadata": {
    "id": "tMm7EKlPgdEd"
   },
   "outputs": [],
   "source": []
  }
 ],
 "metadata": {
  "colab": {
   "authorship_tag": "ABX9TyPJfpTXpfX0Qi1hFcpE3LKo",
   "provenance": []
  },
  "kernelspec": {
   "display_name": "Python 3 (ipykernel)",
   "language": "python",
   "name": "python3"
  },
  "language_info": {
   "codemirror_mode": {
    "name": "ipython",
    "version": 3
   },
   "file_extension": ".py",
   "mimetype": "text/x-python",
   "name": "python",
   "nbconvert_exporter": "python",
   "pygments_lexer": "ipython3",
   "version": "3.11.2"
  }
 },
 "nbformat": 4,
 "nbformat_minor": 4
}
