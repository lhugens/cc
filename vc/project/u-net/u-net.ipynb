{
 "cells": [
  {
   "cell_type": "code",
   "execution_count": 14,
   "id": "b6fac4a5-c4f5-49d5-a49d-72d277a84624",
   "metadata": {},
   "outputs": [],
   "source": [
    "import tensorflow as tf\n",
    "from tensorflow import keras\n",
    "from tensorflow.keras import layers, Model"
   ]
  },
  {
   "cell_type": "code",
   "execution_count": 58,
   "id": "c3cfb100-3ba4-4c89-a2b5-5a4693c2c48d",
   "metadata": {},
   "outputs": [
    {
     "data": {
      "text/plain": [
       "<KerasTensor: shape=(None, 64, 64, 512) dtype=float32 (created by layer 'conv2d_68')>"
      ]
     },
     "execution_count": 58,
     "metadata": {},
     "output_type": "execute_result"
    }
   ],
   "source": [
    "x_save_4"
   ]
  },
  {
   "cell_type": "code",
   "execution_count": 64,
   "id": "d6b52cae-3c28-40f3-ad79-f7886530f58f",
   "metadata": {},
   "outputs": [
    {
     "name": "stdout",
     "output_type": "stream",
     "text": [
      "Model: \"model_21\"\n",
      "_________________________________________________________________\n",
      " Layer (type)                Output Shape              Param #   \n",
      "=================================================================\n",
      " input_26 (InputLayer)       [(None, 572, 572, 3)]     0         \n",
      "                                                                 \n",
      " conv2d_121 (Conv2D)         (None, 570, 570, 64)      1792      \n",
      "                                                                 \n",
      " conv2d_122 (Conv2D)         (None, 568, 568, 64)      36928     \n",
      "                                                                 \n",
      " max_pooling2d_41 (MaxPooli  (None, 284, 284, 64)      0         \n",
      " ng2D)                                                           \n",
      "                                                                 \n",
      " conv2d_123 (Conv2D)         (None, 282, 282, 128)     73856     \n",
      "                                                                 \n",
      " conv2d_124 (Conv2D)         (None, 280, 280, 128)     147584    \n",
      "                                                                 \n",
      " max_pooling2d_42 (MaxPooli  (None, 140, 140, 128)     0         \n",
      " ng2D)                                                           \n",
      "                                                                 \n",
      " conv2d_125 (Conv2D)         (None, 138, 138, 128)     147584    \n",
      "                                                                 \n",
      " conv2d_126 (Conv2D)         (None, 136, 136, 128)     147584    \n",
      "                                                                 \n",
      " max_pooling2d_43 (MaxPooli  (None, 68, 68, 128)       0         \n",
      " ng2D)                                                           \n",
      "                                                                 \n",
      " conv2d_127 (Conv2D)         (None, 66, 66, 512)       590336    \n",
      "                                                                 \n",
      " conv2d_128 (Conv2D)         (None, 64, 64, 512)       2359808   \n",
      "                                                                 \n",
      " max_pooling2d_44 (MaxPooli  (None, 32, 32, 512)       0         \n",
      " ng2D)                                                           \n",
      "                                                                 \n",
      " conv2d_129 (Conv2D)         (None, 30, 30, 1024)      4719616   \n",
      "                                                                 \n",
      " conv2d_130 (Conv2D)         (None, 28, 28, 1024)      9438208   \n",
      "                                                                 \n",
      " conv2d_transpose_5 (Conv2D  (None, 29, 29, 512)       2097664   \n",
      " Transpose)                                                      \n",
      "                                                                 \n",
      "=================================================================\n",
      "Total params: 19760960 (75.38 MB)\n",
      "Trainable params: 19760960 (75.38 MB)\n",
      "Non-trainable params: 0 (0.00 Byte)\n",
      "_________________________________________________________________\n"
     ]
    }
   ],
   "source": [
    "input_shape=(572, 572, 3)\n",
    "inputs = layers.Input(input_shape)\n",
    "\n",
    "# CONTRACTING PATH\n",
    "\n",
    "x = layers.Conv2D(64, (3, 3), activation='relu', input_shape=input_shape)(inputs)\n",
    "x = layers.Conv2D(64, (3, 3), activation='relu')(x)\n",
    "\n",
    "x_save_1 = x \n",
    "x = layers.MaxPooling2D(2, 2)(x)\n",
    "\n",
    "x = layers.Conv2D(128, (3, 3), activation='relu')(x)\n",
    "x = layers.Conv2D(128, (3, 3), activation='relu')(x)\n",
    "\n",
    "x_save_2 = x \n",
    "x = layers.MaxPooling2D(2, 2)(x)\n",
    "\n",
    "x = layers.Conv2D(128, (3, 3), activation='relu')(x)\n",
    "x = layers.Conv2D(128, (3, 3), activation='relu')(x)\n",
    "\n",
    "x_save_3 = x \n",
    "x = layers.MaxPooling2D(2, 2)(x)\n",
    "\n",
    "x = layers.Conv2D(512, (3, 3), activation='relu')(x)\n",
    "x = layers.Conv2D(512, (3, 3), activation='relu')(x)\n",
    "\n",
    "x_save_4 = x \n",
    "x = layers.MaxPooling2D(2, 2)(x)\n",
    "\n",
    "x = layers.Conv2D(1024, (3, 3), activation='relu')(x)\n",
    "x = layers.Conv2D(1024, (3, 3), activation='relu')(x)\n",
    "\n",
    "# EXPANDING PATH\n",
    "\n",
    "x = layers.Conv2DTranspose(512, (2, 2), activation='relu')(x)\n",
    "#x = tf.concat([x_save_4, x], axis=3)\n",
    "\n",
    "\n",
    "\n",
    "model = Model(inputs, x)\n",
    "model.compile(optimizer='adam', loss='binary_crossentropy', metrics=['accuracy'])\n",
    "model.summary()"
   ]
  },
  {
   "cell_type": "code",
   "execution_count": 54,
   "id": "65f73450-e38a-42ab-aa1f-ffcc11131362",
   "metadata": {},
   "outputs": [
    {
     "ename": "AttributeError",
     "evalue": "module 'tensorflow' has no attribute 'placeholder'",
     "output_type": "error",
     "traceback": [
      "\u001b[0;31m---------------------------------------------------------------------------\u001b[0m",
      "\u001b[0;31mAttributeError\u001b[0m                            Traceback (most recent call last)",
      "Cell \u001b[0;32mIn[54], line 2\u001b[0m\n\u001b[1;32m      1\u001b[0m \u001b[38;5;66;03m# Assuming x and y are your tensors\u001b[39;00m\n\u001b[0;32m----> 2\u001b[0m x \u001b[38;5;241m=\u001b[39m \u001b[43mtf\u001b[49m\u001b[38;5;241;43m.\u001b[39;49m\u001b[43mplaceholder\u001b[49m(tf\u001b[38;5;241m.\u001b[39mfloat32, shape\u001b[38;5;241m=\u001b[39m(\u001b[38;5;28;01mNone\u001b[39;00m, \u001b[38;5;241m4\u001b[39m, \u001b[38;5;241m4\u001b[39m, \u001b[38;5;241m6\u001b[39m))\n\u001b[1;32m      3\u001b[0m y \u001b[38;5;241m=\u001b[39m tf\u001b[38;5;241m.\u001b[39mplaceholder(tf\u001b[38;5;241m.\u001b[39mfloat32, shape\u001b[38;5;241m=\u001b[39m(\u001b[38;5;28;01mNone\u001b[39;00m, \u001b[38;5;241m4\u001b[39m, \u001b[38;5;241m4\u001b[39m, \u001b[38;5;241m6\u001b[39m))\n\u001b[1;32m      5\u001b[0m \u001b[38;5;66;03m# Concatenate along axis 3 (channels)\u001b[39;00m\n",
      "\u001b[0;31mAttributeError\u001b[0m: module 'tensorflow' has no attribute 'placeholder'"
     ]
    }
   ],
   "source": [
    "# Assuming x and y are your tensors\n",
    "x = tf.placeholder(tf.float32, shape=(None, 4, 4, 6))\n",
    "y = tf.placeholder(tf.float32, shape=(None, 4, 4, 6))\n",
    "\n",
    "# Concatenate along axis 3 (channels)\n",
    "result = tf.concat([x, y], axis=3)"
   ]
  },
  {
   "cell_type": "code",
   "execution_count": null,
   "id": "bed46e36-97e2-4c34-b349-dd34b17e29f5",
   "metadata": {},
   "outputs": [],
   "source": []
  }
 ],
 "metadata": {
  "kernelspec": {
   "display_name": "Python 3 (ipykernel)",
   "language": "python",
   "name": "python3"
  },
  "language_info": {
   "codemirror_mode": {
    "name": "ipython",
    "version": 3
   },
   "file_extension": ".py",
   "mimetype": "text/x-python",
   "name": "python",
   "nbconvert_exporter": "python",
   "pygments_lexer": "ipython3",
   "version": "3.11.2"
  }
 },
 "nbformat": 4,
 "nbformat_minor": 5
}
