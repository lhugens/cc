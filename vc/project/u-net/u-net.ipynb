{
 "cells": [
  {
   "cell_type": "code",
   "execution_count": 19,
   "id": "b6fac4a5-c4f5-49d5-a49d-72d277a84624",
   "metadata": {},
   "outputs": [],
   "source": [
    "import tensorflow as tf\n",
    "from tensorflow import keras\n",
    "from tensorflow.keras import layers, Model\n",
    "import numpy as np"
   ]
  },
  {
   "cell_type": "code",
   "execution_count": 76,
   "id": "da38648c-0c0a-47b7-914f-f827f2ec4453",
   "metadata": {},
   "outputs": [],
   "source": [
    "def crop(a, b):\n",
    "    a, b = sorted([a, b])\n",
    "    return [int((b-a)/2), int(b-(b-a)/2)]"
   ]
  },
  {
   "cell_type": "code",
   "execution_count": 81,
   "id": "d6b52cae-3c28-40f3-ad79-f7886530f58f",
   "metadata": {},
   "outputs": [],
   "source": [
    "input_shape=(572, 572, 3)\n",
    "inputs = layers.Input(input_shape)\n",
    "\n",
    "# CONTRACTING PATH\n",
    "\n",
    "x = layers.Conv2D(64, (3, 3), activation='relu', input_shape=input_shape)(inputs)\n",
    "x = layers.Conv2D(64, (3, 3), activation='relu')(x)\n",
    "\n",
    "x_save_1 = x \n",
    "#print(\"x_save_1: \", x_save_1.shape)\n",
    "x = layers.MaxPooling2D(2, 2)(x)\n",
    "\n",
    "x = layers.Conv2D(128, (3, 3), activation='relu')(x)\n",
    "x = layers.Conv2D(128, (3, 3), activation='relu')(x)\n",
    "\n",
    "x_save_2 = x \n",
    "#print(\"x_save_2: \", x_save_2.shape)\n",
    "x = layers.MaxPooling2D(2, 2)(x)\n",
    "\n",
    "x = layers.Conv2D(128, (3, 3), activation='relu')(x)\n",
    "x = layers.Conv2D(128, (3, 3), activation='relu')(x)\n",
    "\n",
    "x_save_3 = x \n",
    "#print(\"x_save_3: \", x_save_3.shape)\n",
    "x = layers.MaxPooling2D(2, 2)(x)\n",
    "\n",
    "x = layers.Conv2D(512, (3, 3), activation='relu')(x)\n",
    "x = layers.Conv2D(512, (3, 3), activation='relu')(x)\n",
    "\n",
    "x_save_4 = x \n",
    "#print(\"x_save_4: \", x_save_4.shape)\n",
    "x = layers.MaxPooling2D(2, 2)(x)\n",
    "\n",
    "x = layers.Conv2D(1024, (3, 3), activation='relu')(x)\n",
    "x = layers.Conv2D(1024, (3, 3), activation='relu')(x)\n",
    "\n",
    "# EXPANDING PATH\n",
    "\n",
    "x = layers.Conv2DTranspose(1024, (3, 3), strides = (2, 2), padding = 'same')(x)\n",
    "a, b = crop(64, 56)\n",
    "x = layers.concatenate([x_save_4[:, a:b, a:b, :], x])\n",
    "\n",
    "x = layers.Conv2D(512, (3, 3), activation='relu')(x)\n",
    "x = layers.Conv2D(512, (3, 3), activation='relu')(x)\n",
    "x = layers.Conv2DTranspose(512, (3, 3), strides = (2, 2), padding = 'same')(x)\n",
    "a, b = crop(136, 104)\n",
    "x = layers.concatenate([x_save_3[:, a:b, a:b, :], x])\n",
    "\n",
    "x = layers.Conv2D(256, (3, 3), activation='relu')(x)\n",
    "x = layers.Conv2D(256, (3, 3), activation='relu')(x)\n",
    "\n",
    "x = layers.Conv2DTranspose(256, (3, 3), strides = (2, 2), padding = 'same')(x)\n",
    "a, b = crop(280, 200)\n",
    "x = layers.concatenate([x_save_2[:, a:b, a:b, :], x])\n",
    "\n",
    "x = layers.Conv2D(128, (3, 3), activation='relu')(x)\n",
    "x = layers.Conv2D(128, (3, 3), activation='relu')(x)\n",
    "\n",
    "x = layers.Conv2DTranspose(128, (3, 3), strides = (2, 2), padding = 'same')(x)\n",
    "a, b = crop(568, 392)\n",
    "x = layers.concatenate([x_save_1[:, a:b, a:b, :], x])\n",
    "\n",
    "x = layers.Conv2D(64, (3, 3), activation='relu')(x)\n",
    "x = layers.Conv2D(64, (3, 3), activation='relu')(x)\n",
    "\n",
    "x = layers.Conv2D(2, (1, 1), activation='relu')(x)\n",
    "\n",
    "###########################\n",
    "model = Model(inputs, x)\n",
    "model.compile(optimizer='adam', loss='binary_crossentropy', metrics=['accuracy'])\n",
    "#model.summary()"
   ]
  },
  {
   "cell_type": "code",
   "execution_count": 77,
   "id": "531802dc-9d3c-448c-8fab-aa39d3b261c3",
   "metadata": {},
   "outputs": [
    {
     "name": "stdout",
     "output_type": "stream",
     "text": [
      "[4, 60]\n",
      "[16, 120]\n",
      "[40, 240]\n",
      "[88, 480]\n"
     ]
    }
   ],
   "source": [
    "def crop(a, b):\n",
    "    a, b = sorted([a, b])\n",
    "    return [int((b-a)/2), int(b-(b-a)/2)]\n",
    "\n",
    "print(crop(64, 56))\n",
    "print(crop(136, 104))\n",
    "print(crop(280, 200))\n",
    "print(crop(568, 392))"
   ]
  },
  {
   "cell_type": "code",
   "execution_count": null,
   "id": "cfa9e7d5-ada2-4274-949a-61714ff02d24",
   "metadata": {},
   "outputs": [],
   "source": []
  }
 ],
 "metadata": {
  "kernelspec": {
   "display_name": "Python 3 (ipykernel)",
   "language": "python",
   "name": "python3"
  },
  "language_info": {
   "codemirror_mode": {
    "name": "ipython",
    "version": 3
   },
   "file_extension": ".py",
   "mimetype": "text/x-python",
   "name": "python",
   "nbconvert_exporter": "python",
   "pygments_lexer": "ipython3",
   "version": "3.11.2"
  }
 },
 "nbformat": 4,
 "nbformat_minor": 5
}
